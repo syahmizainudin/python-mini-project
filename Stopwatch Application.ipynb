{
 "cells": [
  {
   "cell_type": "markdown",
   "id": "cosmetic-earthquake",
   "metadata": {},
   "source": [
    "# Stopwatch Application"
   ]
  },
  {
   "cell_type": "markdown",
   "id": "alpha-cheat",
   "metadata": {},
   "source": [
    "Objective:\n",
    "* Create a stopwatch application that has functions start(), stop() and reset().\n",
    "* The count should start when you call the start() function.\n",
    "* When stop() function is called stop the count and return the duration.\n",
    "* Calling reset() function will reset the duration to 0\n",
    "* Log the events as a new line every time the stop() function is called into a Txt file"
   ]
  },
  {
   "cell_type": "code",
   "execution_count": 1,
   "id": "lyric-romania",
   "metadata": {},
   "outputs": [],
   "source": [
    "# Importing the necessary modules\n",
    "\n",
    "import os\n",
    "os.chdir('stopwatch')\n",
    "import stopwatch"
   ]
  },
  {
   "cell_type": "code",
   "execution_count": 2,
   "id": "c21559de",
   "metadata": {},
   "outputs": [],
   "source": [
    "# Creating an sw object from the stopwatch class\n",
    "\n",
    "sw = stopwatch.Stopwatch()"
   ]
  },
  {
   "cell_type": "code",
   "execution_count": 6,
   "id": "fd03c2a5",
   "metadata": {},
   "outputs": [],
   "source": [
    "# Start the stopwatch\n",
    "\n",
    "sw.start()"
   ]
  },
  {
   "cell_type": "code",
   "execution_count": 7,
   "id": "0fe781cd",
   "metadata": {},
   "outputs": [
    {
     "name": "stdout",
     "output_type": "stream",
     "text": [
      "0:00:18.834561\n"
     ]
    }
   ],
   "source": [
    "# Stop the stopwatch and get the duration of how long the stopwatch had run\n",
    "\n",
    "sw.stop()"
   ]
  },
  {
   "cell_type": "code",
   "execution_count": 8,
   "id": "90648ee4",
   "metadata": {},
   "outputs": [
    {
     "name": "stdout",
     "output_type": "stream",
     "text": [
      "Stopwatch had been reset.\n"
     ]
    }
   ],
   "source": [
    "# Reset the stopwatch\n",
    "\n",
    "sw.reset()"
   ]
  }
 ],
 "metadata": {
  "kernelspec": {
   "display_name": "Python 3.7.6 64-bit",
   "language": "python",
   "name": "python3"
  },
  "language_info": {
   "codemirror_mode": {
    "name": "ipython",
    "version": 3
   },
   "file_extension": ".py",
   "mimetype": "text/x-python",
   "name": "python",
   "nbconvert_exporter": "python",
   "pygments_lexer": "ipython3",
   "version": "3.7.6"
  },
  "vscode": {
   "interpreter": {
    "hash": "e31d329098719558e1786bf49f8babd2bd42c0f55cf5b488750d54dd772f4205"
   }
  }
 },
 "nbformat": 4,
 "nbformat_minor": 5
}
