{
 "cells": [
  {
   "cell_type": "markdown",
   "id": "included-irrigation",
   "metadata": {},
   "source": [
    "# Temperature Conversion"
   ]
  },
  {
   "cell_type": "markdown",
   "id": "quick-daughter",
   "metadata": {},
   "source": [
    "Objective:\n",
    "* Create a simple temperature conversion application that converts the temperature measurements from degrees Celsius to degrees Fahrenheit or vice versa based on the mode selection by the user. "
   ]
  },
  {
   "cell_type": "code",
   "execution_count": 1,
   "id": "bound-pharmacology",
   "metadata": {},
   "outputs": [],
   "source": [
    "# Import all the modules that are required for the project\n",
    "\n",
    "import datetime\n",
    "import os\n",
    "\n",
    "mode_input = ''\n",
    "temp_input = ''\n",
    "result = ''"
   ]
  },
  {
   "cell_type": "code",
   "execution_count": 2,
   "id": "effective-compact",
   "metadata": {
    "scrolled": true
   },
   "outputs": [],
   "source": [
    "# Prompt the user to select the mode (Celsius or Fahrenheit)\n",
    "\n",
    "mode_input = input('Please select a mode (Enter C to convert from Celcius or F to convert from Fahrenheit): ')       "
   ]
  },
  {
   "cell_type": "code",
   "execution_count": 3,
   "id": "plain-worse",
   "metadata": {},
   "outputs": [],
   "source": [
    "# Prompt the user to insert the value that needs to be converted to the other unit\n",
    "\n",
    "temp_input = input('Enter a value that will be converted: ')"
   ]
  },
  {
   "cell_type": "code",
   "execution_count": 4,
   "id": "diagnostic-little",
   "metadata": {},
   "outputs": [
    {
     "name": "stdout",
     "output_type": "stream",
     "text": [
      "100°F = 37.78°C\n"
     ]
    }
   ],
   "source": [
    "# Convert the values inserted into the other unit and display on the output\n",
    "\n",
    "try:\n",
    "    time = datetime.datetime.now().strftime('%d-%m-%Y %H:%M:%S')\n",
    "    \n",
    "    if mode_input.lower() == 'c':\n",
    "        result = round((float(temp_input) * 9/5) + 32, 2)\n",
    "        result_statement = '{}°C = {}°F'.format(str(temp_input), str(result))\n",
    "    elif mode_input.lower() == 'f':\n",
    "        result = round((float(temp_input) - 32) * 5/9, 2)\n",
    "        result_statement = '{}°F = {}°C'.format(str(temp_input), str(result))\n",
    "    else:\n",
    "        raise Exception('Please enter either C for conversion from Celcius or F for conversion from Fahreinheit')\n",
    "\n",
    "except ValueError as e:\n",
    "    print('Please enter a valid number for conversion')\n",
    "    \n",
    "except TypeError as e:\n",
    "    print('Please enter a valid number for conversion') \n",
    "        \n",
    "except Exception as e:\n",
    "    print(e)\n",
    "    \n",
    "else:\n",
    "    print(result_statement)"
   ]
  },
  {
   "cell_type": "code",
   "execution_count": 5,
   "id": "indirect-indicator",
   "metadata": {},
   "outputs": [],
   "source": [
    "# Store the log in a txt file with datetime information by adding a new line for each entry\n",
    "\n",
    "## Check if the 'log.txt' file exist or not. Create the file if it doesn't exist and append it if it exists\n",
    "if mode_input != '' and temp_input != '' and result != '':\n",
    "    if os.path.exists('temperature/output/log.txt'):\n",
    "        with open('log.txt', 'a') as f:\n",
    "            f.write(mode_input.upper()[0] + '\\t\\t' + temp_input + '\\t\\t\\t' + str(result) + '\\t\\t\\t' + time + '\\n')\n",
    "    else:\n",
    "        with open('temperature/output/log.txt', 'w') as f:\n",
    "            f.write('Mode' + '\\t\\t' + 'Original Temp' + '\\t\\t' + 'Converted Temp' + '\\t\\t' + 'Time' + '\\n'\n",
    "                    + mode_input.upper()[0] + '\\t\\t' + temp_input + '\\t\\t\\t' + str(result) + '\\t\\t\\t' + time + '\\n')"
   ]
  }
 ],
 "metadata": {
  "kernelspec": {
   "display_name": "Python 3.9.13 ('base')",
   "language": "python",
   "name": "python3"
  },
  "language_info": {
   "codemirror_mode": {
    "name": "ipython",
    "version": 3
   },
   "file_extension": ".py",
   "mimetype": "text/x-python",
   "name": "python",
   "nbconvert_exporter": "python",
   "pygments_lexer": "ipython3",
   "version": "3.9.13"
  },
  "vscode": {
   "interpreter": {
    "hash": "4afcefbd62fa59b1857e6f57ef46281164ff131d871c90d1df3d86ce260cb3b1"
   }
  }
 },
 "nbformat": 4,
 "nbformat_minor": 5
}
